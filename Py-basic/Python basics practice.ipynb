{
 "cells": [
  {
   "cell_type": "markdown",
   "metadata": {},
   "source": [
    "Hello Guys as I mentioned earlier here is the notebook for **Basics of Python**. (I'll recommend you should create a new notebook try these program line by line on your own).\n",
    "\n",
    "Also, I have added few simple tasks for practice and better understaning please try them as well. \n",
    "\n",
    "In this notebook I haven't added anything about libraries *(except one program)* (import and all sorts of things). \n",
    "\n",
    "I'll make next notebook on libraries and various functions. \n",
    "\n",
    "Please take this seriously as this will be really helpful for us in placements or higher studies as well. \n",
    "\n",
    "If you didn't get anything then just try to search it on internet (most of the doubts can solved this way) otherwise ask in WhatsApp group we will discuss there.\n",
    "\n",
    "Please let me know if any modificcations are required in this notebook and also give feedback about how is this notebook. \n",
    "\n",
    "Thank you!"
   ]
  },
  {
   "cell_type": "markdown",
   "metadata": {},
   "source": [
    "# <u><span style=\"color:orange\">Python Basics</span><u> "
   ]
  },
  {
   "cell_type": "markdown",
   "metadata": {},
   "source": [
    "<span style=\"color:darkblack\">**----------------------------------------------------------------------------------------------------------------------------------------------------------------------------------------------------------------**"
   ]
  },
  {
   "cell_type": "markdown",
   "metadata": {},
   "source": [
    "- #### <span style=\"color:green\">print()</span> function"
   ]
  },
  {
   "cell_type": "code",
   "execution_count": 1,
   "metadata": {},
   "outputs": [
    {
     "name": "stdout",
     "output_type": "stream",
     "text": [
      "Hello World! \n",
      "Hi We are ML Project Team No. 20\n"
     ]
    }
   ],
   "source": [
    "print(\"Hello World! \\nHi We are ML Project Team No. 20\")"
   ]
  },
  {
   "cell_type": "code",
   "execution_count": 45,
   "metadata": {},
   "outputs": [
    {
     "name": "stdout",
     "output_type": "stream",
     "text": [
      "Hello World!\n",
      "Hello World!\n",
      "Hello 'World!'\n",
      "\n",
      "\"Hello\" World!\n",
      "'Hello' \"World\" \n",
      "\n",
      "Hello\n",
      "World\n",
      "Hello \n",
      "\n",
      "World!\n"
     ]
    }
   ],
   "source": [
    "print(\"Hello\",\"World!\") # if possible run it line by line to have good understanding and observe changes taking place.\n",
    "print('Hello World!')\n",
    "print(\"Hello 'World!'\\n\")\n",
    "print('\"Hello\" World!')\n",
    "print(\"'Hello' \\\"World\\\" \\n\")\n",
    "print('''Hello\n",
    "World''')\n",
    "print('''Hello \n",
    "\\nWorld!''')"
   ]
  },
  {
   "cell_type": "markdown",
   "metadata": {},
   "source": [
    "<span style=\"color:darkblack\">*----------------------------------------------------------------------------------------------------------------------------------------------------------------------------------------------------------------*"
   ]
  },
  {
   "cell_type": "markdown",
   "metadata": {},
   "source": [
    "### <span style=\"color:blue\">Task 1</span> \n",
    "   You have to print the text given below as it is, \n",
    "    \n",
    "   \" \\Hello\\ \" \n",
    "   \n",
    "<span style=\"color:magenta\">Answer</span> is provided at the end of this notebook."
   ]
  },
  {
   "cell_type": "markdown",
   "metadata": {},
   "source": [
    "<span style=\"color:darkblack\">*----------------------------------------------------------------------------------------------------------------------------------------------------------------------------------------------------------------*"
   ]
  },
  {
   "cell_type": "code",
   "execution_count": 69,
   "metadata": {},
   "outputs": [
    {
     "name": "stdout",
     "output_type": "stream",
     "text": [
      "Hello, we are ML Project Team No. 20\n",
      "Hello, we are ML Project Team No. 20\n",
      "Hello, we are ML Project Team No. 20\n",
      "Hello, we are ML Project Team No. 20\n"
     ]
    }
   ],
   "source": [
    "subject = \"ML Project Team No. 20\"\n",
    "print(\"Hello, we are\",subject) \n",
    "print(\"Hello, we are %s\"% subject)\n",
    "print(\"Hello, we are {}\".format(subject)) \n",
    "print(f\"Hello, we are {subject}\") #compatible with only python version 3.6 or higher."
   ]
  },
  {
   "cell_type": "code",
   "execution_count": 70,
   "metadata": {},
   "outputs": [
    {
     "data": {
      "text/plain": [
       "'ML Project Team No. 20'"
      ]
     },
     "execution_count": 70,
     "metadata": {},
     "output_type": "execute_result"
    }
   ],
   "source": [
    "subject = \"ML Project Team No. 20\" #String value assigning\n",
    "subject"
   ]
  },
  {
   "cell_type": "code",
   "execution_count": 81,
   "metadata": {},
   "outputs": [],
   "source": [
    "group_members = 4               #integer \n",
    "floating_point = 3.14           #Float\n",
    "complex_no = 4 + 4j             #Complex no. \n",
    "boolean_variable = True         #Boolean"
   ]
  },
  {
   "cell_type": "code",
   "execution_count": 82,
   "metadata": {},
   "outputs": [
    {
     "name": "stdout",
     "output_type": "stream",
     "text": [
      "4\n",
      "<class 'int'>\n",
      "3.14\n",
      "<class 'complex'>\n",
      "<class 'complex'>\n"
     ]
    }
   ],
   "source": [
    "print(group_members)\n",
    "print(type(group_members))\n",
    "print(floating_point) \n",
    "print(f'{type(complex_no)}')\n",
    "print(\"{}\".format(type(complex_no))) #using .format"
   ]
  },
  {
   "cell_type": "markdown",
   "metadata": {},
   "source": [
    "<span style=\"color:darkblack\">**----------------------------------------------------------------------------------------------------------------------------------------------------------------------------------------------------------------**"
   ]
  },
  {
   "cell_type": "markdown",
   "metadata": {},
   "source": [
    "- #### *Python for <span style=\"color:purple\">arithmatic operation or as calculator*"
   ]
  },
  {
   "cell_type": "code",
   "execution_count": 96,
   "metadata": {},
   "outputs": [
    {
     "name": "stdout",
     "output_type": "stream",
     "text": [
      "a+b = 7\n",
      "a-b = 1\n",
      "a*b = 12\n",
      "a/b = 1.3333333333333333\n",
      "a//b = 1\n",
      "a%b = 1\n",
      "a**b = 64\n"
     ]
    }
   ],
   "source": [
    "a = 4\n",
    "b = 3 \n",
    "print(\"a+b = {}\".format(a+b)) # Addition \n",
    "print(\"a-b = {}\".format(a-b)) # Subtraction \n",
    "print(\"a*b = {}\".format(a*b))  # Multiplication\n",
    "print(\"a/b = {}\".format(a/b))  #Division \n",
    "print(\"a//b = {}\".format(a//b)) #Quotient \n",
    "print(\"a%b = {}\".format(a%b))   #Remainder\n",
    "print(\"a**b = {}\".format(a**b)) #indices or power "
   ]
  },
  {
   "cell_type": "markdown",
   "metadata": {},
   "source": [
    "<span style=\"color:darkblack\">**----------------------------------------------------------------------------------------------------------------------------------------------------------------------------------------------------------------**"
   ]
  },
  {
   "cell_type": "markdown",
   "metadata": {},
   "source": [
    "- #### <span style=\"color:green\">Tuple() \n",
    "Tuples are sequence of values which **can't be changed.**"
   ]
  },
  {
   "cell_type": "code",
   "execution_count": 119,
   "metadata": {},
   "outputs": [
    {
     "name": "stdout",
     "output_type": "stream",
     "text": [
      "('Machine', 'Learning', 'Project', 'Team', 'No.', 20)\n"
     ]
    }
   ],
   "source": [
    "tuple1 = ('Machine','Learning','Project','Team','No.',20) \n",
    "print(tuple1)"
   ]
  },
  {
   "cell_type": "code",
   "execution_count": 183,
   "metadata": {},
   "outputs": [
    {
     "name": "stdout",
     "output_type": "stream",
     "text": [
      "<class 'tuple'>\n",
      "<class 'tuple'>\n"
     ]
    }
   ],
   "source": [
    "print(\"{}\".format(type(tuple1))) # OR simply you can use below one\n",
    "print(type(tuple1))"
   ]
  },
  {
   "cell_type": "code",
   "execution_count": 142,
   "metadata": {},
   "outputs": [
    {
     "name": "stdout",
     "output_type": "stream",
     "text": [
      "Project\n"
     ]
    },
    {
     "data": {
      "text/plain": [
       "'Team'"
      ]
     },
     "execution_count": 142,
     "metadata": {},
     "output_type": "execute_result"
    }
   ],
   "source": [
    "print(tuple1[2])\n",
    "tuple1[3]           #To access the elements, use the indices (starting from zero)\n"
   ]
  },
  {
   "cell_type": "code",
   "execution_count": 169,
   "metadata": {},
   "outputs": [
    {
     "data": {
      "text/plain": [
       "(20, 'No.', 'Team', 'Project', 'Learning', 'Machine')"
      ]
     },
     "execution_count": 169,
     "metadata": {},
     "output_type": "execute_result"
    }
   ],
   "source": [
    "tuple1[5], tuple1[4], tuple1[3], tuple1[2], tuple1[1], tuple1[0]"
   ]
  },
  {
   "cell_type": "code",
   "execution_count": 165,
   "metadata": {},
   "outputs": [
    {
     "data": {
      "text/plain": [
       "('Learning', 'Project', 'Team')"
      ]
     },
     "execution_count": 165,
     "metadata": {},
     "output_type": "execute_result"
    }
   ],
   "source": [
    "tuple1[1:4] #index slicing syntax: [inclusive:exlusive]"
   ]
  },
  {
   "cell_type": "code",
   "execution_count": 176,
   "metadata": {},
   "outputs": [
    {
     "name": "stdout",
     "output_type": "stream",
     "text": [
      "('Learning', 'Team')\n",
      "('Machine', 'Project')\n",
      "('Learning', 'Team', 20)\n"
     ]
    }
   ],
   "source": [
    "print(tuple1[1:5:2]) #full syntax: [inclusive_start:exclusive_end:step_size] \n",
    "\n",
    "#If inclusive_start or exclusive_end is blank, then it will slice from the beginning, or till the end respectively. \n",
    "print(tuple1[:4:2]) # inclusive_start is blank \n",
    "print(tuple1[1::2]) # exclusive_end is blank "
   ]
  },
  {
   "cell_type": "code",
   "execution_count": null,
   "metadata": {},
   "outputs": [],
   "source": [
    "tuple1[4] = 3 #By the way tuple does not support item assignment, so if you run this command it will show error...  "
   ]
  },
  {
   "cell_type": "code",
   "execution_count": 207,
   "metadata": {},
   "outputs": [
    {
     "name": "stdout",
     "output_type": "stream",
     "text": [
      "('j', 98, (['a', 'b', 'c'], ['d', 7, 3, 1]), 'k')\n",
      "<class 'tuple'>\n",
      "(['a', 'b', 'c'], ['d', 7, 3, 1])\n",
      "k\n"
     ]
    }
   ],
   "source": [
    "# Nested tuple: tuple inside tuple- try some examples for better understanding.\n",
    "nested_tuple1 = ('j',98,(['a','b','c'],['d',7,3,1]),'k')     \n",
    "print(nested_tuple1)\n",
    "print(\"{}\".format(type(nested_tuple1)))\n",
    "print(nested_tuple1[2])     #please observe the output of this line carefully... \n",
    "print(nested_tuple1[3])"
   ]
  },
  {
   "cell_type": "markdown",
   "metadata": {},
   "source": [
    "<span style=\"color:darkblack\">**----------------------------------------------------------------------------------------------------------------------------------------------------------------------------------------------------------------**"
   ]
  },
  {
   "cell_type": "markdown",
   "metadata": {},
   "source": [
    "- #### <span style=\"color:green\">Lists[ ] \n",
    "Lists are similar to tuple but they can be **changed**."
   ]
  },
  {
   "cell_type": "code",
   "execution_count": 269,
   "metadata": {},
   "outputs": [
    {
     "name": "stdout",
     "output_type": "stream",
     "text": [
      "['Machine', 'Learning', 'Project', 'Team', 'No.', 20]\n",
      "['Learning', 'Team']\n",
      "['Machine', 'Learning', 'Project', 'Team', 'No.', 20]\n"
     ]
    }
   ],
   "source": [
    "list1 = ['Machine','Learning','Project','Team','No.',20]\n",
    "print(list1)\n",
    "print(list1[1:5:2]) #index slicing\n",
    "print(list1)\n",
    "#nested_list=[['a','b','c','d'],[1,2,5,7,8],['Team', 'No.', 20]] \n"
   ]
  },
  {
   "cell_type": "code",
   "execution_count": 270,
   "metadata": {},
   "outputs": [
    {
     "name": "stdout",
     "output_type": "stream",
     "text": [
      "['Machine', 'Learning', 'Project', 'Team', 'No.', 20, ['Project', 'details']]\n"
     ]
    }
   ],
   "source": [
    "list1.append(['Project','details']) \n",
    "print(list1)"
   ]
  },
  {
   "cell_type": "code",
   "execution_count": 271,
   "metadata": {},
   "outputs": [
    {
     "name": "stdout",
     "output_type": "stream",
     "text": [
      "['Machine', 'Team', 'No.', 20, ['Project', 'details']]\n"
     ]
    }
   ],
   "source": [
    "del list1 [1:3]\n",
    "print(list1)"
   ]
  },
  {
   "cell_type": "code",
   "execution_count": 272,
   "metadata": {},
   "outputs": [
    {
     "name": "stdout",
     "output_type": "stream",
     "text": [
      "['Team', 'No.', 20, ['Project', 'details']]\n",
      "['Team', 'No.', 20]\n"
     ]
    }
   ],
   "source": [
    "list1.remove('Machine')\n",
    "print(list1)\n",
    "list1.remove(['Project','details'])\n",
    "print(list1)"
   ]
  },
  {
   "cell_type": "code",
   "execution_count": 304,
   "metadata": {},
   "outputs": [
    {
     "name": "stdout",
     "output_type": "stream",
     "text": [
      "['T', 'Y', 'B.Tech', ['Autonomy', 'First Batch'], 2017, 'Pattern']\n",
      "['Y', 'B.Tech', ['Autonomy', 'First Batch']]\n",
      "Lenght of List is 6\n"
     ]
    }
   ],
   "source": [
    "#nested list\n",
    "my_list = ['T','Y','B.Tech',['Autonomy','First Batch'], 2017,'Pattern']\n",
    "print(my_list) \n",
    "print(my_list[1:4]) #index slicing\n",
    "\n",
    "#Function for length of any kind of collection data type (tuples, list, dictionaries ...) \n",
    "len(my_list) #list inside the list (nested list) is counted as one element \n",
    "print(\"Lenght of List is {}\".format(len(my_list)))"
   ]
  },
  {
   "cell_type": "code",
   "execution_count": 303,
   "metadata": {},
   "outputs": [
    {
     "name": "stdout",
     "output_type": "stream",
     "text": [
      "['T', 'Y', 'B.Tech', ['Autonomy', 'First Batch'], 2017, 'Pattern', 'E&TC']\n"
     ]
    }
   ],
   "source": [
    "my_list.append ('E&TC')\n",
    "print(my_list)"
   ]
  },
  {
   "cell_type": "markdown",
   "metadata": {},
   "source": [
    "<span style=\"color:darkblack\">**----------------------------------------------------------------------------------------------------------------------------------------------------------------------------------------------------------------**"
   ]
  },
  {
   "cell_type": "markdown",
   "metadata": {},
   "source": [
    "- #### Strings <span style=\"color:green\">(str) \n"
   ]
  },
  {
   "cell_type": "code",
   "execution_count": 309,
   "metadata": {},
   "outputs": [
    {
     "name": "stdout",
     "output_type": "stream",
     "text": [
      "ML Project Team No. 20\n"
     ]
    }
   ],
   "source": [
    "my_string = \"ML Project Team No. 20\" \n",
    "print(my_string) "
   ]
  },
  {
   "cell_type": "code",
   "execution_count": 311,
   "metadata": {},
   "outputs": [
    {
     "name": "stdout",
     "output_type": "stream",
     "text": [
      "ML Project Team No. 20\n",
      "Project\n"
     ]
    }
   ],
   "source": [
    "print(my_string)\n",
    "print(my_string[3:10])"
   ]
  },
  {
   "cell_type": "code",
   "execution_count": 312,
   "metadata": {},
   "outputs": [
    {
     "name": "stdout",
     "output_type": "stream",
     "text": [
      "['ML', 'Project', 'Team', 'No.', '20']\n"
     ]
    }
   ],
   "source": [
    "#Split the string\n",
    "print(my_string.split()) #splits the string shows the individual element"
   ]
  },
  {
   "cell_type": "code",
   "execution_count": 325,
   "metadata": {},
   "outputs": [
    {
     "name": "stdout",
     "output_type": "stream",
     "text": [
      "['please,split', 'the', 'string.into', 'parts']\n",
      "['please', 'split:the:string.into:parts']\n",
      "['please,split:the:string', 'into:parts']\n",
      "['please,split:the:string.into:parts']\n",
      "['please,split', 'the', 'string.into', 'parts']\n"
     ]
    }
   ],
   "source": [
    "my_word = \"please,split:the:string.into:parts\" \n",
    "print(my_word.split(':'))\n",
    "print(my_word.split(','))\n",
    "print(my_word.split('.'))\n",
    "print(my_word.split(':',0)) #maxsplit \n",
    "print(my_word.split(':',3))"
   ]
  },
  {
   "cell_type": "markdown",
   "metadata": {},
   "source": [
    "<span style=\"color:darkblack\">*----------------------------------------------------------------------------------------------------------------------------------------------------------------------------------------------------------------*"
   ]
  },
  {
   "cell_type": "markdown",
   "metadata": {},
   "source": [
    "### <span style=\"color:blue\">Task 2 \n",
    "Try to do some operation like item assignment or append or delete or remove and check if are they allowed/valid on strings..."
   ]
  },
  {
   "cell_type": "markdown",
   "metadata": {},
   "source": [
    "<span style=\"color:darkblack\">**----------------------------------------------------------------------------------------------------------------------------------------------------------------------------------------------------------------**"
   ]
  },
  {
   "cell_type": "markdown",
   "metadata": {},
   "source": [
    "- #### Dictionaries { }\n",
    "Instead of indexing by strictly numbers from 0 to `len`-1, we can index a _value_ with any _key_ as long as the _key_ is immutable (can be a tuple)."
   ]
  },
  {
   "cell_type": "code",
   "execution_count": 86,
   "metadata": {},
   "outputs": [
    {
     "name": "stdout",
     "output_type": "stream",
     "text": [
      "{'AAD': 1, 'ARP': 2, 'NGP': 3, 'RSG': 4}\n"
     ]
    }
   ],
   "source": [
    "project_dictionary = {'AAD':1,'ARP':2,'NGP':3,'RSG':4} \n",
    "print(project_dictionary)"
   ]
  },
  {
   "cell_type": "code",
   "execution_count": 87,
   "metadata": {},
   "outputs": [
    {
     "name": "stdout",
     "output_type": "stream",
     "text": [
      "Group Member 2 is ARP\n"
     ]
    }
   ],
   "source": [
    "member = 'ARP'\n",
    "print(f'Group Member {project_dictionary[member]} is {member}') \n",
    "\n",
    "#BTW you might be wondering what these 3 lettered words are? \n",
    "#These are initials (alphabetically arranged) of our group members...😂😂😂"
   ]
  },
  {
   "cell_type": "markdown",
   "metadata": {},
   "source": [
    "<span style=\"color:darkblack\">*----------------------------------------------------------------------------------------------------------------------------------------------------------------------------------------------------------------*"
   ]
  },
  {
   "cell_type": "markdown",
   "metadata": {},
   "source": [
    "#### Task 3 \n",
    "Try different combinations of Initial and group member number in the above program."
   ]
  },
  {
   "cell_type": "markdown",
   "metadata": {},
   "source": [
    "<span style=\"color:darkblack\">**----------------------------------------------------------------------------------------------------------------------------------------------------------------------------------------------------------------**"
   ]
  },
  {
   "cell_type": "markdown",
   "metadata": {},
   "source": [
    "- #### Conditionals (`if...elif...if`) \n",
    "Let's understand conditionals with the help of simple example *(indentation is very important in conditionals, loops, etc)* \n",
    "\n",
    "Syntax: \n",
    "\n",
    "`if:condition \n",
    " elif:condition \n",
    " else:`"
   ]
  },
  {
   "cell_type": "code",
   "execution_count": 14,
   "metadata": {},
   "outputs": [
    {
     "name": "stdout",
     "output_type": "stream",
     "text": [
      "else condition is satidfied\n",
      "3 is less than 6\n"
     ]
    }
   ],
   "source": [
    "c = 3 \n",
    "if c > 6: \n",
    "    print(\"if condition is satisfied\")\n",
    "    print(c,\"is greater than 6\")\n",
    "elif c == 6: \n",
    "    print(\"elif condition is satisfied\")\n",
    "    print(c,\"is equal to 6\")\n",
    "else:\n",
    "    print(\"else condition is satidfied\")\n",
    "    print(c,\"is less than 6\")\n",
    "    "
   ]
  },
  {
   "cell_type": "code",
   "execution_count": 18,
   "metadata": {},
   "outputs": [
    {
     "name": "stdout",
     "output_type": "stream",
     "text": [
      "d is greater than 13\n"
     ]
    }
   ],
   "source": [
    "d = 23\n",
    "if 11 < d < 13:\n",
    "    print(\"d is in between 11 and 13\")\n",
    "elif d > 13:\n",
    "    print(\"d is greater than 13\")\n",
    "else:\n",
    "    print(\"d is less than 11\")"
   ]
  },
  {
   "cell_type": "markdown",
   "metadata": {},
   "source": [
    "Logical operations `and`, `or`, and `not` can also be used."
   ]
  },
  {
   "cell_type": "code",
   "execution_count": 22,
   "metadata": {},
   "outputs": [
    {
     "name": "stdout",
     "output_type": "stream",
     "text": [
      "False\n",
      "True\n",
      "True\n"
     ]
    }
   ],
   "source": [
    "e = True \n",
    "f = False \n",
    "print(e and f)\n",
    "print(e or f)\n",
    "print(not (e and f)) "
   ]
  },
  {
   "cell_type": "markdown",
   "metadata": {},
   "source": [
    "<span style=\"color:darkblack\">*----------------------------------------------------------------------------------------------------------------------------------------------------------------------------------------------------------------*\n",
    "\n"
   ]
  },
  {
   "cell_type": "markdown",
   "metadata": {},
   "source": [
    "#### Task 4 \n",
    "Try to use `and`, `or` to check whether student is passed/failed in VIIT exams.\n",
    "\n",
    "Also try different examples with different conditions."
   ]
  },
  {
   "cell_type": "markdown",
   "metadata": {},
   "source": [
    "<span style=\"color:darkblack\">**----------------------------------------------------------------------------------------------------------------------------------------------------------------------------------------------------------------**"
   ]
  },
  {
   "cell_type": "markdown",
   "metadata": {},
   "source": [
    "- ### Loops \n",
    "`for` and `while`"
   ]
  },
  {
   "cell_type": "code",
   "execution_count": 50,
   "metadata": {},
   "outputs": [
    {
     "name": "stdout",
     "output_type": "stream",
     "text": [
      "3\n",
      "4\n",
      "5\n",
      "6\n"
     ]
    }
   ],
   "source": [
    "for h in [3,4,5,6]:\n",
    "    print(h)"
   ]
  },
  {
   "cell_type": "code",
   "execution_count": 58,
   "metadata": {},
   "outputs": [
    {
     "name": "stdout",
     "output_type": "stream",
     "text": [
      "12\n",
      "14\n",
      "16\n"
     ]
    }
   ],
   "source": [
    "for i in range (12,18,2):   # range gives you a range of numbers! syntax: range(inclusive_start, exclusive_end, step)\n",
    "    print(i)"
   ]
  },
  {
   "cell_type": "code",
   "execution_count": 69,
   "metadata": {},
   "outputs": [
    {
     "name": "stdout",
     "output_type": "stream",
     "text": [
      "1,4,9,"
     ]
    }
   ],
   "source": [
    "repeat = 1\n",
    "while repeat <= 3:\n",
    "    print (repeat**2, end = \",\")\n",
    "    repeat+= 1"
   ]
  },
  {
   "cell_type": "markdown",
   "metadata": {},
   "source": [
    "<span style=\"color:darkblack\">**----------------------------------------------------------------------------------------------------------------------------------------------------------------------------------------------------------------**"
   ]
  },
  {
   "cell_type": "markdown",
   "metadata": {},
   "source": [
    "### Parsing a file for data \n",
    "Here we will learn to parse the file to acces data. \n",
    "If `with` function is used then make sure the file in which data is stored should be in the same folder as this notebook is saved. But for the time being I am using pandas to show the data, we will look into other libraries including pandas later on. Just look at steps and observe syntax you need not remember it as you will practice you will automatically get it."
   ]
  },
  {
   "cell_type": "code",
   "execution_count": 89,
   "metadata": {},
   "outputs": [
    {
     "data": {
      "text/html": [
       "<div>\n",
       "<style scoped>\n",
       "    .dataframe tbody tr th:only-of-type {\n",
       "        vertical-align: middle;\n",
       "    }\n",
       "\n",
       "    .dataframe tbody tr th {\n",
       "        vertical-align: top;\n",
       "    }\n",
       "\n",
       "    .dataframe thead th {\n",
       "        text-align: right;\n",
       "    }\n",
       "</style>\n",
       "<table border=\"1\" class=\"dataframe\">\n",
       "  <thead>\n",
       "    <tr style=\"text-align: right;\">\n",
       "      <th></th>\n",
       "      <th>Member No.</th>\n",
       "      <th>Name</th>\n",
       "      <th>Initials</th>\n",
       "      <th>G. R. No.</th>\n",
       "      <th>Division</th>\n",
       "    </tr>\n",
       "  </thead>\n",
       "  <tbody>\n",
       "    <tr>\n",
       "      <td>0</td>\n",
       "      <td>1</td>\n",
       "      <td>Arya A. Deshmukh</td>\n",
       "      <td>AAD</td>\n",
       "      <td>17U683</td>\n",
       "      <td>A</td>\n",
       "    </tr>\n",
       "    <tr>\n",
       "      <td>1</td>\n",
       "      <td>2</td>\n",
       "      <td>Akash R. Pimple</td>\n",
       "      <td>ARP</td>\n",
       "      <td>17U528</td>\n",
       "      <td>B</td>\n",
       "    </tr>\n",
       "    <tr>\n",
       "      <td>2</td>\n",
       "      <td>3</td>\n",
       "      <td>Nishant G. Pawar</td>\n",
       "      <td>NGP</td>\n",
       "      <td>17U031</td>\n",
       "      <td>B</td>\n",
       "    </tr>\n",
       "    <tr>\n",
       "      <td>3</td>\n",
       "      <td>4</td>\n",
       "      <td>Rohan S. Garje</td>\n",
       "      <td>RSG</td>\n",
       "      <td>17U246</td>\n",
       "      <td>A</td>\n",
       "    </tr>\n",
       "  </tbody>\n",
       "</table>\n",
       "</div>"
      ],
      "text/plain": [
       "   Member No.              Name Initials G. R. No. Division\n",
       "0           1  Arya A. Deshmukh      AAD    17U683        A\n",
       "1           2   Akash R. Pimple      ARP    17U528        B\n",
       "2           3  Nishant G. Pawar      NGP    17U031        B\n",
       "3           4    Rohan S. Garje      RSG    17U246        A"
      ]
     },
     "execution_count": 89,
     "metadata": {},
     "output_type": "execute_result"
    }
   ],
   "source": [
    "import pandas as pd\n",
    "member_data = pd.read_csv(r\"C:\\Users\\Pawar\\Desktop\\Project-Member-Details.csv\")\n",
    "member_data"
   ]
  },
  {
   "cell_type": "markdown",
   "metadata": {},
   "source": [
    "<span style=\"color:darkblack\">**----------------------------------------------------------------------------------------------------------------------------------------------------------------------------------------------------------------**"
   ]
  },
  {
   "cell_type": "markdown",
   "metadata": {},
   "source": [
    "### <i> <span style=\"color:magenta\">Answers</span> of <span style=\"color:blue\">Tasks</span>:"
   ]
  },
  {
   "cell_type": "markdown",
   "metadata": {},
   "source": [
    "- #### Task 1 Solution"
   ]
  },
  {
   "cell_type": "code",
   "execution_count": 4,
   "metadata": {},
   "outputs": [
    {
     "name": "stdout",
     "output_type": "stream",
     "text": [
      "\" \\Hello\\ \"\n"
     ]
    }
   ],
   "source": [
    "print(\"\\\" \\Hello\\ \\\"\") "
   ]
  },
  {
   "cell_type": "markdown",
   "metadata": {},
   "source": [
    "- #### Task 2 Solution\n",
    "String doesn't allows item assignment/append/remove/del"
   ]
  },
  {
   "cell_type": "markdown",
   "metadata": {},
   "source": [
    "- #### Task 3 Solution \n",
    "Change the value assigned to member and observe changes"
   ]
  },
  {
   "cell_type": "markdown",
   "metadata": {},
   "source": [
    "- #### Task 4 Solution \n",
    "Change the value assigned to member and observe changes"
   ]
  },
  {
   "cell_type": "code",
   "execution_count": 46,
   "metadata": {},
   "outputs": [
    {
     "name": "stdout",
     "output_type": "stream",
     "text": [
      "VIIT Exam Pass/Fail checker\n",
      "T1 + T2 = 22\n",
      "Total = T1 + T2 + End-Sem. = 35\n",
      "Failed in End-sem. exam, quickly pay reexam fees in exam section (A303)😂\n"
     ]
    }
   ],
   "source": [
    "print(\"VIIT Exam Pass/Fail checker\")\n",
    "t1 = 12\n",
    "t2 = 10\n",
    "g = t1+t2\n",
    "print(\"T1 + T2 =\",g) \n",
    "end_sem = 13 \n",
    "total = g + end_sem\n",
    "print(\"Total = T1 + T2 + End-Sem. =\",total)\n",
    "if 0 < g >= 20 and 0 < end_sem >= 20:\n",
    "    print (\"You have passed exam.\")\n",
    "elif 0 < g >= 20 and 0 < end_sem < 20:\n",
    "    print (\"Failed in End-sem. exam, quickly pay reexam fees in exam section (A303)😂\")\n",
    "elif 0 < g < 20 and 0 < end_sem >= 20:\n",
    "    print (\"Failed in In-sem. exam, quickly pay reexam fees in exam section (A303) 😂\")\n",
    "elif 0< g < 20 and 0 < end_sem < 20:\n",
    "    print (\"Failed in both In-sem. and End-sem. exam, quickly pay reexam fees in exam section (A303) 😂\") \n",
    "else: \n",
    "    print(\"Error occured contact class teacher or exam section immediately\")"
   ]
  },
  {
   "cell_type": "markdown",
   "metadata": {},
   "source": [
    "<span style=\"color:darkblack\">**----------------------------------------------------------------------------------------------------------------------------------------------------------------------------------------------------------------**"
   ]
  },
  {
   "cell_type": "markdown",
   "metadata": {},
   "source": [
    "<span style=\"color:indigo\">*For more information:*\n",
    "\n",
    "- [Python Wiki](https://wiki.python.org/moin/)\n",
    "- [Built-in Types](https://docs.python.org/3/library/stdtypes.html)\n",
    "- [String Formatting](https://docs.python.org/3/library/string.html#format-string-syntax)"
   ]
  },
  {
   "cell_type": "markdown",
   "metadata": {},
   "source": [
    "<span style=\"color:darkblack\">**----------------------------------------------------------------------------------------------------------------------------------------------------------------------------------------------------------------**"
   ]
  },
  {
   "cell_type": "markdown",
   "metadata": {},
   "source": [
    "- #### <i>Reference:<i> Krittika - Astronomy Club of IIT Bombay"
   ]
  },
  {
   "cell_type": "markdown",
   "metadata": {},
   "source": [
    "<span style=\"color:darkblack\">**----------------------------------------------------------------------------------------------------------------------------------------------------------------------------------------------------------------**"
   ]
  }
 ],
 "metadata": {
  "kernelspec": {
   "display_name": "Python 3",
   "language": "python",
   "name": "python3"
  },
  "language_info": {
   "codemirror_mode": {
    "name": "ipython",
    "version": 3
   },
   "file_extension": ".py",
   "mimetype": "text/x-python",
   "name": "python",
   "nbconvert_exporter": "python",
   "pygments_lexer": "ipython3",
   "version": "3.7.4"
  }
 },
 "nbformat": 4,
 "nbformat_minor": 2
}
